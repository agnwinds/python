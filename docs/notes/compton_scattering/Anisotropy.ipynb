{
 "cells": [
  {
   "cell_type": "markdown",
   "id": "fe30a3ab-fc0b-4797-a120-a21debc073c2",
   "metadata": {
    "tags": []
   },
   "source": [
    "# How should reweighting due to anisotropy be calculated for extract"
   ]
  },
  {
   "cell_type": "markdown",
   "id": "65c41e71-3efb-4a1d-9602-d9262080a947",
   "metadata": {},
   "source": [
    "## Background\n",
    "\n",
    "In Python, we normally construct spectra using what we call \"extract\", which involves reweighting photons at each \"production\" or \"scattering\" site and then calculating the reduction in flux of the scattered photons along the line of sight to produce the final spectrum. What we call this \"extract\" mode.  The extract proceess is also called the \"peel off\" method.\n",
    "\n",
    "## Live or die \n",
    "\n",
    "Before discussing the extract method, it is worthwhile considering how the  live or die method occurs in Python.  In Python, photons are initially weighted so the sum of all of the photons equals the lumininosity.  We count phothons that escape the system with specific angles and divide by the total solid angle of the bins.  Thus internally, we calculate the $dL/d\\Omega$.  We then convert this to a flux (at 100 pc.)\n",
    "\n",
    "## Extract\n",
    "\n",
    "In extract mode, a contriibtion to the total spectrum is made from every photon that \"can\" escape.  Since photons can escape in any direction the spectra to put the spectra int he same units as Live or die, one must divide by a solid angle of $1/4\\pi$ before makeing the conversions to flux from above.  For truly isotropic processes, no special care is required, because the probablity of emission in a particular direction is independent of direction.  For anisotropic processes, however, however photons must be reweighted by ther relative probability of emission in a particular direction compared to the probablility in the isotropic case.\n",
    "\n",
    "(Although here we only consider radiation in the wind, reweighing is also required in the case of surfaces, depending on what is assumed about the angular distribution of radiation from a surface.)\n"
   ]
  },
  {
   "cell_type": "markdown",
   "id": "039f7bb2-a2fb-490e-ae86-634329b336b3",
   "metadata": {},
   "source": [
    "## A more complete explanation \n",
    "\n",
    "Consider any scattering process, if a scattering occurs, let\n",
    "$$\n",
    "\\frac{dP}{d\\Omega}\n",
    "$$\n",
    "be the proability of scattering into a paricular solid angle\n"
   ]
  },
  {
   "cell_type": "markdown",
   "id": "bc151c60-5098-4723-ad20-1d5ea3c9dacf",
   "metadata": {},
   "source": [
    "Given that the integral of the $dP/d\\Omega$ ore all solid angles must must be 1, then for isotropic scattrring\n",
    "\n",
    "$$\n",
    "\\frac{dP}{d\\Omega} = \\frac{1}{4\\pi}\n",
    "$$\n",
    "\n",
    "\n",
    "For isotropic scattering since all directions are equivalent, we do not reweight.\n"
   ]
  },
  {
   "cell_type": "markdown",
   "id": "57c5705c-3282-41d6-aaa5-6cf59cd2c1f0",
   "metadata": {},
   "source": [
    "For anisotropic scattering, we need to int atccount of the fact that photons are not equally problably to go in every direction.  If the differntial x-section is given by\n",
    "\n",
    "$$\n",
    "\\frac{d\\sigma}{d\\Omega}\n",
    "$$\n",
    "\n",
    "We still need $dP/d\\Omega$ to integrate to 1, however so the relative weigting hast to be\n",
    "\n",
    "$$\n",
    "\\frac{dP}{d\\Omega} = \\frac{\\frac{d\\sigma}{d\\Omega}}{\\int \\frac{d\\sigma}{d\\Omega} d\\Omega} = \\frac{\\frac{d\\sigma}{d\\Omega}}{\\sigma_{tot}} \n",
    "$$\n",
    "\n",
    "\n",
    "\n",
    "\n"
   ]
  },
  {
   "cell_type": "markdown",
   "id": "36a2567c-6a55-4b00-8b13-f531211e361b",
   "metadata": {},
   "source": [
    "## For Thompson scattering, \n",
    "\n",
    "$$\n",
    "\\frac{d\\sigma}{d\\Omega} \\propto (1+cos^2 \\theta) \n",
    "$$\n",
    "\n",
    "and if this is integrated of all solid angles\n",
    "\n",
    "$$\n",
    "\\int  (1+cos^2 (\\theta)) sin (\\theta) d\\theta d\\phi = 2\\pi\\int  (1+cos^2 (\\theta))  dcos(\\theta)  = \\frac{16 \\pi}{3}\n",
    "$$\n",
    "\n",
    "and thus a properly normalized differential x-section is given by\n",
    "\n",
    "$$\n",
    "\\frac{d\\sigma}{d\\Omega} = \\frac{3}{16 \\pi} \\sigma_t  (1+cos^2 \\theta)\n",
    "$$"
   ]
  },
  {
   "cell_type": "markdown",
   "id": "2d52e71e-1260-4530-8dce-19949b777846",
   "metadata": {},
   "source": [
    "Our reweighthing for Thompsons scattering relative to isotropic scattering is hence\n",
    "\n",
    "$$\n",
    "R = \\frac{\\frac{dP_T}{d\\Omega}}{\\frac{dP_{iso}}{d\\Omega}} = \\frac{\\frac{3}{16 \\pi}   (1+cos^2 \\theta)}{\\frac{1}{4}{\\pi}} = \\frac{3}{4} (1+cos^2 \\theta)\n",
    "$$\n"
   ]
  },
  {
   "cell_type": "markdown",
   "id": "b79e3b26-a5cc-4658-8de6-931577895fbe",
   "metadata": {},
   "source": [
    "## What is the situation for Comptons Scattering?\n",
    "\n",
    "Here \n",
    "\n",
    "\n",
    "$$\n",
    "\\frac{\\delta \\sigma}{\\delta \\Omega} = =C \\left( \\frac{\\nu_{scat}}{\\nu_o} \\right )^2 \\left ( \\frac{\\nu_o}{\\nu_{scat}} + \\frac{\\nu_{scat}}{\\nu_o} - sin^2 \\theta  \\right )\n",
    "$$\n",
    "\n",
    "and \n",
    "\n",
    "In Compton scattering the frequeency of a photon changes because of recoil\n",
    "\n",
    "$$\n",
    "\\nu_{scat} = \\frac{\\nu_o}{1+\\frac{h \\nu}{m_e c^2}(1-cos \\theta}\n",
    "$$\n"
   ]
  },
  {
   "cell_type": "markdown",
   "id": "93b51461-5a6a-4658-b80a-3ad93773ae02",
   "metadata": {},
   "source": [
    "The integral we want is:\n",
    "    \n",
    "$$\n",
    "\\int \\frac{d\\sigma}{d\\Omega} d\\Omega \\propto\\int \\left( \\frac{\\nu_{scat}}{\\nu_o} \\right )^2 \\left ( \\frac{\\nu_o}{\\nu_{scat}} + \\frac{\\nu_{scat}}{\\nu_o} - sin^2 \\theta  \\right ) sin \\theta d\\theta d\\phi\n",
    "$$    "
   ]
  },
  {
   "cell_type": "markdown",
   "id": "6420b514-afa5-44ab-85e1-298a77b97cbc",
   "metadata": {},
   "source": [
    "The integral we actually have is (and this differs by 2$\\pi$ from the integral above\n",
    "\n",
    "$$\n",
    "I(\\theta) =\\int \\left( \\frac{\\nu_{scat}}{\\nu_o} \\right )^2 \\left ( \\frac{\\nu_o}{\\nu_{scat}} + \\frac{\\nu_{scat}}{\\nu_o} - sin^2 \\theta  \\right ) sin \\theta d\\theta\n",
    "$$\n",
    "\n",
    "The solution to this, according to multiple souces on the web is\n",
    "$$\n",
    "I(\\theta) = \n",
    "-\\frac{cos(\\theta)}{R^2} \\\\\n",
    "+ log((1+ R (1-cos\\theta) ) \\left ( \\frac{1}{R}-\\frac{2}{R^2} - \\frac{2}{R^3}  \\right ) \\\\\n",
    "- \\frac{1}{2R (1+R (1-cos \\theta))^2} \\\\\n",
    "+ \\frac{1}{1+R(1-cos \\theta)} \\left ( - \\frac{2}{R^2}  - \\frac{1}{R^3} \\right )\n",
    "$$\n",
    "\n",
    "where\n",
    "\n",
    "$$\n",
    "R=\\frac{h\\nu}{m_ec^2}\n",
    "$$\n",
    "\n",
    "Note that the eqation above is the indevinite integral.  It is actually negative at $\\theta=0$, and only makes sense wih limits.\n",
    "\n",
    "We want the difference between $I(\\pi)-I(0)$"
   ]
  },
  {
   "cell_type": "markdown",
   "id": "d61eced6-f04b-461d-86c1-2017e83146f1",
   "metadata": {},
   "source": [
    "Our final reweighint should be \n",
    "\n",
    "$$\n",
    "\\frac{\\delta \\sigma}{\\delta \\Omega} = =C \n",
    "\\left( \\frac{\\nu_{scat}}{\\nu_o} \\right )^2 \n",
    "\\left ( \\frac{\\nu_o}{\\nu_{scat}} + \\frac{\\nu_{scat}}{\\nu_o} - sin^2 \\theta  \\right )\n",
    "$$\n",
    "\n",
    "$$\n",
    "R = \\frac{\\frac{dP_T}{d\\Omega}}{\\frac{dP_{iso}}{d\\Omega}} = \\frac{\n",
    "\\frac{1}{2\\pi (I(\\pi)-I(0))}\n",
    "\\left( \\frac{\\nu_{scat}}{\\nu_o} \\right )^2 \n",
    "\\left ( \\frac{\\nu_o}{\\nu_{scat}} + \\frac{\\nu_{scat}}{\\nu_o} - sin^2 \\theta  \\right )\n",
    "}{\\frac{1}{4\\pi}}\n",
    "$$"
   ]
  },
  {
   "cell_type": "code",
   "execution_count": null,
   "id": "95b36cea-c099-4315-bfbd-673f604ba813",
   "metadata": {},
   "outputs": [],
   "source": []
  }
 ],
 "metadata": {
  "kernelspec": {
   "display_name": "Python [conda env:ksl]",
   "language": "python",
   "name": "conda-env-ksl-py"
  },
  "language_info": {
   "codemirror_mode": {
    "name": "ipython",
    "version": 3
   },
   "file_extension": ".py",
   "mimetype": "text/x-python",
   "name": "python",
   "nbconvert_exporter": "python",
   "pygments_lexer": "ipython3",
   "version": "3.11.3"
  }
 },
 "nbformat": 4,
 "nbformat_minor": 5
}
